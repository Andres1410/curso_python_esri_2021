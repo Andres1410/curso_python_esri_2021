{
 "cells": [
  {
   "cell_type": "markdown",
   "metadata": {},
   "source": [
    "# Sesión número 6 curso Python<!-- omit in toc -->\n",
    "\n",
    "- Listas"
   ]
  },
  {
   "cell_type": "markdown",
   "metadata": {},
   "source": [
    "## Listas\n",
    "\n",
    "Son secuencias de objetos (enteros, strings, flotantes, listas, tuplas, diccionarios. Cualquier objeto de python), iterables y mutables, es decir puedo modificar el valor de un indice en la lista, tengo que tener cuidado al modificar una lista por que puedo estar cambiando tanto la cantidad de elementos como el valor de los mismos."
   ]
  },
  {
   "cell_type": "code",
   "execution_count": 82,
   "metadata": {},
   "outputs": [
    {
     "name": "stdout",
     "output_type": "stream",
     "text": [
      "<class 'list'>\n"
     ]
    }
   ],
   "source": [
    "# Listas vacias\n",
    "empty_list = []\n",
    "print (type (empty_list))\n"
   ]
  },
  {
   "cell_type": "code",
   "execution_count": 83,
   "metadata": {},
   "outputs": [
    {
     "name": "stdout",
     "output_type": "stream",
     "text": [
      "['Historia', 'Matematicas', 'Fisica', 'Programacion']\n"
     ]
    }
   ],
   "source": [
    "# Crear una lista con datos\n",
    "materias = ['Historia', 'Matematicas', 'Fisica', 'Programacion']\n",
    "print(materias)"
   ]
  },
  {
   "cell_type": "code",
   "execution_count": 84,
   "metadata": {},
   "outputs": [
    {
     "name": "stdout",
     "output_type": "stream",
     "text": [
      "4\n"
     ]
    }
   ],
   "source": [
    "#Longitud de una lista\n",
    "longitudLista = len(materias)\n",
    "print(longitudLista)"
   ]
  },
  {
   "cell_type": "code",
   "execution_count": 85,
   "metadata": {},
   "outputs": [
    {
     "name": "stdout",
     "output_type": "stream",
     "text": [
      "Historia\n",
      "Programacion\n"
     ]
    }
   ],
   "source": [
    "# Accediendoa  indices\n",
    "historia = materias[0]\n",
    "print (historia)\n",
    "programacion = materias[-1]\n",
    "print(programacion)"
   ]
  },
  {
   "cell_type": "code",
   "execution_count": 86,
   "metadata": {},
   "outputs": [
    {
     "name": "stdout",
     "output_type": "stream",
     "text": [
      "['Historia', 'Matematicas']\n",
      "['Historia', 'Matematicas']\n",
      "<class 'list'>\n"
     ]
    }
   ],
   "source": [
    "# Accediendo a varios indices ---- Obtengo una nueva lista resultante\n",
    "dos_materias = materias[0:2]\n",
    "print (dos_materias)\n",
    "dos_materias = materias[:2]\n",
    "print (dos_materias)\n",
    "print (type(dos_materias))"
   ]
  },
  {
   "cell_type": "markdown",
   "metadata": {},
   "source": [
    "# Ejercicio\n",
    "\n",
    "- Crear una lista con variables, las variables pueden ser del cualquier tipo de dato\n",
    "- Probar todas las posibles formas de acceder a los indices de la lista. Tip --- Recordando strings: [:-1]"
   ]
  },
  {
   "cell_type": "code",
   "execution_count": 87,
   "metadata": {},
   "outputs": [
    {
     "name": "stdout",
     "output_type": "stream",
     "text": [
      "['one', 20, 5.5, [10, 15], 'five']\n"
     ]
    }
   ],
   "source": [
    "# lista con diferentes tipos de datos de python\n",
    "mylist = ['one', 20, 5.5, [10, 15], 'five']\n",
    "print(mylist)"
   ]
  },
  {
   "cell_type": "code",
   "execution_count": 88,
   "metadata": {},
   "outputs": [
    {
     "name": "stdout",
     "output_type": "stream",
     "text": [
      "['one', 'two', 'three', 'four', 'five']\n",
      "5\n"
     ]
    }
   ],
   "source": [
    "# listas mutables\n",
    "mylist = ['one', 'two', 'three', 'four', 'five']\n",
    "print (mylist)\n",
    "print (len(mylist))\n"
   ]
  },
  {
   "cell_type": "code",
   "execution_count": 89,
   "metadata": {},
   "outputs": [
    {
     "name": "stdout",
     "output_type": "stream",
     "text": [
      "three\n"
     ]
    }
   ],
   "source": [
    "print (mylist[2])"
   ]
  },
  {
   "cell_type": "markdown",
   "metadata": {},
   "source": [
    "Agreguemos al indice dos, otro valor"
   ]
  },
  {
   "cell_type": "code",
   "execution_count": 90,
   "metadata": {},
   "outputs": [],
   "source": [
    "mylist[2] = \"New item\""
   ]
  },
  {
   "cell_type": "code",
   "execution_count": 91,
   "metadata": {},
   "outputs": [
    {
     "name": "stdout",
     "output_type": "stream",
     "text": [
      "['one', 'two', 'New item', 'four', 'five']\n",
      "5\n"
     ]
    }
   ],
   "source": [
    "print(mylist)\n",
    "print(len(mylist))"
   ]
  },
  {
   "cell_type": "code",
   "execution_count": 93,
   "metadata": {},
   "outputs": [
    {
     "name": "stdout",
     "output_type": "stream",
     "text": [
      "one\n",
      "two\n",
      "New item\n",
      "four\n",
      "five\n"
     ]
    }
   ],
   "source": [
    "\n",
    "# Recorrer una lista:\n",
    "for elemento in mylist:\n",
    "     print(elemento)\n"
   ]
  },
  {
   "cell_type": "code",
   "execution_count": 94,
   "metadata": {},
   "outputs": [
    {
     "name": "stdout",
     "output_type": "stream",
     "text": [
      "['one', 'two', 'three', 'four', 'five']\n",
      "['one', 'Hello', 'Seven', 'four', 'five']\n"
     ]
    }
   ],
   "source": [
    "#Cortar una lista:\n",
    "mylist = ['one', 'two', 'three', 'four', 'five']\n",
    "print(mylist)\n",
    "mylist[1:3] = ['Hello', 'Seven']\n",
    "print(mylist)\n"
   ]
  },
  {
   "cell_type": "code",
   "execution_count": 95,
   "metadata": {},
   "outputs": [
    {
     "name": "stdout",
     "output_type": "stream",
     "text": [
      "[1, 2, 3, 4, 5]\n",
      "[1, 'Hello', 2, 3, 4, 5]\n"
     ]
    }
   ],
   "source": [
    "\n",
    "#Insertar en una lista:\n",
    "mylist = [1, 2, 3, 4, 5]\n",
    "print(mylist)\n",
    "mylist.insert(1, 'Hello')\n",
    "print(mylist)\n"
   ]
  },
  {
   "cell_type": "code",
   "execution_count": 96,
   "metadata": {},
   "outputs": [
    {
     "name": "stdout",
     "output_type": "stream",
     "text": [
      "lista incial: ['one', 'two', 'three', 'four', 'five']\n",
      "lista con elemento agregado al final: ['one', 'two', 'three', 'four', 'five', 'new one']\n"
     ]
    }
   ],
   "source": [
    "\n",
    "# Agregar a una lista elementos al final:\n",
    "mylist = ['one', 'two', 'three', 'four', 'five']\n",
    "print(\"lista incial: {}\".format(mylist))\n",
    "mylist.append(\"new one\")\n",
    "print(\"lista con elemento agregado al final: {}\".format(mylist))\n"
   ]
  },
  {
   "cell_type": "code",
   "execution_count": 97,
   "metadata": {},
   "outputs": [
    {
     "name": "stdout",
     "output_type": "stream",
     "text": [
      "['one', 'two', 'three', 'four', 'five']\n"
     ]
    }
   ],
   "source": [
    "# Extender una lista\n",
    "mylist = ['one', 'two', 'three', 'four', 'five']\n",
    "print(mylist)\n"
   ]
  },
  {
   "cell_type": "code",
   "execution_count": 98,
   "metadata": {},
   "outputs": [
    {
     "name": "stdout",
     "output_type": "stream",
     "text": [
      "['one', 'two', 'three', 'four', 'five', 'Hello', 'new one']\n"
     ]
    }
   ],
   "source": [
    "list2 = [\"Hello\", \"new one\"]\n",
    "mylist.extend(list2)\n",
    "print(mylist)"
   ]
  },
  {
   "cell_type": "code",
   "execution_count": 99,
   "metadata": {},
   "outputs": [
    {
     "name": "stdout",
     "output_type": "stream",
     "text": [
      "Lista sin ordenar: ['cde', 'fgh', 'abc', 'klm', 'opq']\n",
      "Lista ordenada: ['abc', 'cde', 'fgh', 'klm', 'opq']\n",
      "Lista sin ordenar: [3, 5, 2, 4, 1]\n",
      "Lista ordenada: [1, 2, 3, 4, 5]\n"
     ]
    }
   ],
   "source": [
    "# Ordenar una Lista:\n",
    "mylist = ['cde', 'fgh', 'abc', 'klm', 'opq']\n",
    "print (\"Lista sin ordenar: {}\".format(mylist))\n",
    "mylist.sort()\n",
    "print (\"Lista ordenada: {}\".format(mylist))\n",
    "listnum = [3, 5, 2, 4, 1]\n",
    "print (\"Lista sin ordenar: {}\".format(listnum))\n",
    "listnum.sort()\n",
    "print (\"Lista ordenada: {}\".format(listnum))\n"
   ]
  },
  {
   "cell_type": "code",
   "execution_count": 102,
   "metadata": {},
   "outputs": [
    {
     "name": "stdout",
     "output_type": "stream",
     "text": [
      "['arandanos', 'banano', 'manzana', 'pera', 'uva']\n"
     ]
    }
   ],
   "source": [
    "frutas = [\"pera\",\"manzana\",\"uva\",\"arandanos\",\"banano\"]\n",
    "frutas.sort()\n",
    "print(frutas)"
   ]
  },
  {
   "cell_type": "code",
   "execution_count": 101,
   "metadata": {},
   "outputs": [
    {
     "name": "stdout",
     "output_type": "stream",
     "text": [
      "[5, 4, 3, 2, 1]\n"
     ]
    }
   ],
   "source": [
    "#Invertir una lista:\n",
    "mylist = [1, 2, 3, 4, 5]\n",
    "mylist.reverse()\n",
    "print(mylist)"
   ]
  },
  {
   "cell_type": "code",
   "execution_count": 103,
   "metadata": {},
   "outputs": [
    {
     "name": "stdout",
     "output_type": "stream",
     "text": [
      "1\n"
     ]
    }
   ],
   "source": [
    "#Indice de un elemento:\n",
    "mylist = ['one', 'two', 'three', 'four', 'five']\n",
    "print(mylist.index('two'))"
   ]
  },
  {
   "cell_type": "code",
   "execution_count": 109,
   "metadata": {},
   "outputs": [
    {
     "name": "stdout",
     "output_type": "stream",
     "text": [
      "['one', 'two', 'four', 'five']\n",
      "three\n"
     ]
    }
   ],
   "source": [
    "# Eliminar un elemento:\n",
    "mylist = ['one', 'two', 'three', 'four', 'five']\n",
    "removed = mylist.pop(2)\n",
    "print(mylist)\n",
    "print(removed)"
   ]
  },
  {
   "cell_type": "code",
   "execution_count": 105,
   "metadata": {},
   "outputs": [
    {
     "name": "stdout",
     "output_type": "stream",
     "text": [
      "['one', 'two', 'four', 'five']\n"
     ]
    }
   ],
   "source": [
    "print (mylist)"
   ]
  },
  {
   "cell_type": "code",
   "execution_count": 110,
   "metadata": {},
   "outputs": [],
   "source": [
    "mylist.remove('two')\n",
    "del mylist[2]"
   ]
  },
  {
   "cell_type": "code",
   "execution_count": 111,
   "metadata": {},
   "outputs": [
    {
     "name": "stdout",
     "output_type": "stream",
     "text": [
      "['one', 'four']\n"
     ]
    }
   ],
   "source": [
    "print (mylist)"
   ]
  },
  {
   "cell_type": "code",
   "execution_count": 112,
   "metadata": {},
   "outputs": [
    {
     "name": "stdout",
     "output_type": "stream",
     "text": [
      "['one', 'four', 'five']\n"
     ]
    }
   ],
   "source": [
    "mylist = ['one', 'two', 'three', 'four', 'five']\n",
    "del mylist[1:3]\n",
    "print(mylist)"
   ]
  },
  {
   "cell_type": "code",
   "execution_count": 113,
   "metadata": {},
   "outputs": [
    {
     "name": "stdout",
     "output_type": "stream",
     "text": [
      "5\n",
      "1\n",
      "5\n",
      "15\n"
     ]
    }
   ],
   "source": [
    "# Funciones agregadas:\n",
    "mylist = [5, 3, 2, 4, 1]\n",
    "print(len(mylist))\n",
    "print(min(mylist))\n",
    "print(max(mylist))\n",
    "print(sum(mylist))"
   ]
  },
  {
   "cell_type": "code",
   "execution_count": 114,
   "metadata": {},
   "outputs": [
    {
     "name": "stdout",
     "output_type": "stream",
     "text": [
      "No match\n"
     ]
    }
   ],
   "source": [
    "# Comparar listas:\n",
    "mylist = ['one', 'two', 'three', 'four', 'five']\n",
    "list2 = ['four', 'one', 'two', 'five', 'three']\n",
    "if (mylist == list2):\n",
    "     print(\"match\")\n",
    "else:\n",
    "     print(\"No match\")"
   ]
  },
  {
   "cell_type": "markdown",
   "metadata": {},
   "source": [
    "# Ejercicio\n",
    "Plantear un ejemplo de dos listas que si coincidan en sus elemtnos, que sean iguales"
   ]
  },
  {
   "cell_type": "code",
   "execution_count": 115,
   "metadata": {},
   "outputs": [
    {
     "name": "stdout",
     "output_type": "stream",
     "text": [
      "[1, 2, 3, 4, 5, 6]\n",
      "[1, 2, 3, 1, 2, 3]\n"
     ]
    }
   ],
   "source": [
    "# Operaciones matematicas en las listas:\n",
    "list1 = [1, 2, 3]\n",
    "list2 = [4, 5, 6]\n",
    "print(list1 + list2)\n",
    "print(list1 * 2)\n"
   ]
  },
  {
   "cell_type": "code",
   "execution_count": 116,
   "metadata": {},
   "outputs": [
    {
     "name": "stdout",
     "output_type": "stream",
     "text": [
      "['Welcome', 'to', 'likegeeks', 'website']\n"
     ]
    }
   ],
   "source": [
    "# Listas y cadenas:\n",
    "mystr = \"Welcome to likegeeks website\"\n",
    "mylist = mystr.split()\n",
    "print(mylist)"
   ]
  },
  {
   "cell_type": "code",
   "execution_count": 117,
   "metadata": {},
   "outputs": [
    {
     "name": "stdout",
     "output_type": "stream",
     "text": [
      "Welcome to likegeeks website\n"
     ]
    }
   ],
   "source": [
    "#Unir una lista:\n",
    "mylist = ['Welcome', 'to', 'likegeeks', 'website']\n",
    "delimiter = ' '\n",
    "output = delimiter.join(mylist)\n",
    "print(output)"
   ]
  },
  {
   "cell_type": "markdown",
   "metadata": {},
   "source": [
    "# Ejercicios\n",
    "\n",
    "Revisar todas las operaciones posibles con listas y plantear ejemplos de uso con variables"
   ]
  }
 ],
 "metadata": {
  "interpreter": {
   "hash": "2ffc68a898cdf6ae2d053613cdf1702dd2070bde6aa15cd9ac7af3dacdaf0735"
  },
  "kernelspec": {
   "display_name": "Python 3.7.10 64-bit ('arcgispro-py3': conda)",
   "name": "python3"
  },
  "language_info": {
   "codemirror_mode": {
    "name": "ipython",
    "version": 3
   },
   "file_extension": ".py",
   "mimetype": "text/x-python",
   "name": "python",
   "nbconvert_exporter": "python",
   "pygments_lexer": "ipython3",
   "version": "3.7.10"
  },
  "orig_nbformat": 4
 },
 "nbformat": 4,
 "nbformat_minor": 2
}
