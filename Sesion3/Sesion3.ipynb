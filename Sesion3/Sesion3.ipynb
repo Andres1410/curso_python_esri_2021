{
 "cells": [
  {
   "cell_type": "markdown",
   "metadata": {},
   "source": [
    "# Sesión número 3 curso Python<!-- omit in toc -->\n",
    "\n",
    "- Introducción a los tipos de datos\n",
    "- Que es una variable, como se asigna\n",
    "\n",
    "\n",
    "\n"
   ]
  },
  {
   "cell_type": "code",
   "execution_count": null,
   "metadata": {},
   "outputs": [],
   "source": []
  },
  {
   "cell_type": "markdown",
   "metadata": {},
   "source": [
    "## Introducción a los tipos de datos\n",
    "\n",
    "Los tipos de datos y conceptos que vamos a revisar son en su mayoría generales y coexistentes en todos los lenguajes de programación.\n",
    "\n",
    "Muy Importante: En python todo es un objeto, este concepto lo revisaremos mas detalladamente en futuras sesiones\n",
    "\n",
    " * \n",
    " Expresión: objeto - operador - objeto = resultado"
   ]
  },
  {
   "cell_type": "markdown",
   "metadata": {},
   "source": [
    "![datos](media/Python-data-structure.jpg)"
   ]
  },
  {
   "cell_type": "code",
   "execution_count": 8,
   "metadata": {},
   "outputs": [
    {
     "data": {
      "text/plain": [
       "2"
      ]
     },
     "execution_count": 8,
     "metadata": {},
     "output_type": "execute_result"
    }
   ],
   "source": [
    "1 + 1 # 1"
   ]
  },
  {
   "cell_type": "code",
   "execution_count": 14,
   "metadata": {},
   "outputs": [
    {
     "data": {
      "text/plain": [
       "'Fabian'"
      ]
     },
     "execution_count": 14,
     "metadata": {},
     "output_type": "execute_result"
    }
   ],
   "source": [
    "'Fabian'"
   ]
  },
  {
   "cell_type": "code",
   "execution_count": 15,
   "metadata": {},
   "outputs": [
    {
     "data": {
      "text/plain": [
       "5.0"
      ]
     },
     "execution_count": 15,
     "metadata": {},
     "output_type": "execute_result"
    }
   ],
   "source": [
    "5.0"
   ]
  },
  {
   "cell_type": "code",
   "execution_count": 16,
   "metadata": {},
   "outputs": [
    {
     "data": {
      "text/plain": [
       "True"
      ]
     },
     "execution_count": 16,
     "metadata": {},
     "output_type": "execute_result"
    }
   ],
   "source": [
    "True"
   ]
  },
  {
   "cell_type": "code",
   "execution_count": 18,
   "metadata": {},
   "outputs": [],
   "source": [
    "\n",
    "# Operador\t#Nombre\t\n",
    "# +\t        #Suma\t\n",
    "# -\t        #Resta\t\n",
    "# *\t        #Multiplicacion\t\n",
    "# /\t        #Division\t\n",
    "# %\t        #Modulo\t\n",
    "# **\t    #Exponente\t\n",
    "# //\t    #Floor division\t"
   ]
  },
  {
   "cell_type": "code",
   "execution_count": 7,
   "metadata": {},
   "outputs": [
    {
     "name": "stdout",
     "output_type": "stream",
     "text": [
      "2\n",
      "-3\n",
      "6.0\n",
      "3\n",
      "1\n",
      "1.5\n",
      "1\n",
      "4\n"
     ]
    }
   ],
   "source": [
    "print(1 + 1)\n",
    "print(2 - 5)\n",
    "print (2.0 * 3)\n",
    "print (6 // 2)\n",
    "print (6 // 4)\n",
    "print (6 / 4)\n",
    "print(7 % 2)\n",
    "print (2 ** 2)"
   ]
  },
  {
   "cell_type": "code",
   "execution_count": 9,
   "metadata": {},
   "outputs": [
    {
     "ename": "TypeError",
     "evalue": "unsupported operand type(s) for /: 'str' and 'int'",
     "output_type": "error",
     "traceback": [
      "\u001b[1;31m---------------------------------------------------------------------------\u001b[0m",
      "\u001b[1;31mTypeError\u001b[0m                                 Traceback (most recent call last)",
      "\u001b[1;32m<ipython-input-9-164088cb3fab>\u001b[0m in \u001b[0;36m<module>\u001b[1;34m\u001b[0m\n\u001b[1;32m----> 1\u001b[1;33m \u001b[1;34m'Python'\u001b[0m \u001b[1;33m/\u001b[0m \u001b[1;36m5\u001b[0m \u001b[1;31m# Error\u001b[0m\u001b[1;33m\u001b[0m\u001b[1;33m\u001b[0m\u001b[0m\n\u001b[0m",
      "\u001b[1;31mTypeError\u001b[0m: unsupported operand type(s) for /: 'str' and 'int'"
     ]
    }
   ],
   "source": [
    "'Python' / 5 # Error"
   ]
  },
  {
   "cell_type": "code",
   "execution_count": 10,
   "metadata": {},
   "outputs": [
    {
     "data": {
      "text/plain": [
       "'PythonPythonPython'"
      ]
     },
     "execution_count": 10,
     "metadata": {},
     "output_type": "execute_result"
    }
   ],
   "source": [
    "'Python' * 3 #PythonPythonPython"
   ]
  },
  {
   "cell_type": "code",
   "execution_count": 5,
   "metadata": {},
   "outputs": [
    {
     "data": {
      "text/plain": [
       "2"
      ]
     },
     "execution_count": 5,
     "metadata": {},
     "output_type": "execute_result"
    }
   ],
   "source": [
    "True + True\n"
   ]
  },
  {
   "cell_type": "code",
   "execution_count": 6,
   "metadata": {},
   "outputs": [
    {
     "data": {
      "text/plain": [
       "1"
      ]
     },
     "execution_count": 6,
     "metadata": {},
     "output_type": "execute_result"
    }
   ],
   "source": [
    "True + False"
   ]
  },
  {
   "cell_type": "markdown",
   "metadata": {},
   "source": [
    "\n",
    "## ¿Que es un objeto?\n",
    "Concepto, abstracción o cosa con límites bien definidos y con significado para el problema que se está manejando. Es una plantilla que me permite abstraer información y modelar computacionalmente un problema del mundo real\n",
    "\n",
    "Escalares y No escalares: dividir y subdividir ejm un vector o un int. No escalar lo que no podemos subdividir\n",
    "Tipos: \n",
    "\n",
    "- int.\n",
    "- float.\n",
    "- bool.\n",
    "- str."
   ]
  },
  {
   "cell_type": "markdown",
   "metadata": {},
   "source": [
    "## ¿Qué es una variable?\n",
    "\n",
    "Las variables son simplemente nombres asociados a espacios en memoria (lugar físico de almacenamiento en el computador).\n",
    " - Se leen de derecha a izquierda, diferente a como normalmente leemos una sentencia en español. Ejm:\n",
    "\n"
   ]
  },
  {
   "cell_type": "code",
   "execution_count": 11,
   "metadata": {},
   "outputs": [],
   "source": [
    "a = 2"
   ]
  },
  {
   "cell_type": "markdown",
   "metadata": {},
   "source": [
    "A es igual a dos, sería nuestra sentencia en español.No se lee así en programación, en términos de programación se lee:\n",
    "\n",
    "\"Estamos asignando el valor 2 a la variable a\"\n",
    "\"La variable a tiene el valor 2 asignado(=)en memoria\"\n",
    "\n"
   ]
  },
  {
   "cell_type": "code",
   "execution_count": 12,
   "metadata": {},
   "outputs": [],
   "source": [
    "x=4"
   ]
  },
  {
   "cell_type": "markdown",
   "metadata": {},
   "source": [
    "\"La variable x apunta al objeto 4 adentro (asignado,=) en memoria\"\n"
   ]
  },
  {
   "cell_type": "code",
   "execution_count": 13,
   "metadata": {},
   "outputs": [],
   "source": [
    "z=(a*x)/2"
   ]
  },
  {
   "cell_type": "code",
   "execution_count": 19,
   "metadata": {},
   "outputs": [
    {
     "name": "stdout",
     "output_type": "stream",
     "text": [
      "<class 'int'>\n",
      "<class 'float'>\n",
      "<class 'bool'>\n",
      "<class 'NoneType'>\n",
      "<class 'str'>\n"
     ]
    }
   ],
   "source": [
    "#Definiendo variables\n",
    "my_int  = 1\n",
    "my_float = 1.0\n",
    "my_bool = True\n",
    "my_none = None\n",
    "my_str = 'Hola'\n",
    "\n",
    "#Imprimiendo el tipo\n",
    "print (type(my_int))\n",
    "print (type(my_float))\n",
    "print (type(my_bool))\n",
    "print (type(my_none))\n",
    "print (type(my_str))"
   ]
  },
  {
   "cell_type": "markdown",
   "metadata": {},
   "source": [
    "\"Z es el resultado de una expresión asignado a z\""
   ]
  },
  {
   "cell_type": "markdown",
   "metadata": {},
   "source": [
    "Como principio se buscan dar nombres exactos a las variables para que sea legible a cualquier persona que lo lea,\n",
    "las variables tienen que tener nombres significativas para los humanos. Como si buscásemos acercar las definiciones para entender entre nosotros las instrucciones que le damos a la máquina.\n",
    "\n",
    "Siempre y cuando las variable son se llamen como las palabras reservadas y que respeten la forma en que cada lenguaje de programación posee sus estándares.\n",
    "\n",
    "La documentación de todo lenguaje guarda sus palabras reservadas.\n",
    "\n",
    "Podemos reasignar las variable, lo que simplemente estamos cambiando es la dirección, hacia a donde apunta memoria. El nombre de la variable no cambia, cambia es el apuntador en memoria."
   ]
  },
  {
   "cell_type": "markdown",
   "metadata": {},
   "source": [
    "## Garbage Collector\n",
    "\n",
    "\n",
    "El garbage collector es el que permite liberar el espacio de memoria para que se puedan hacer reasignaciones.\n",
    "\n",
    "Garbage collector:En ciencias de la computación el garbage collector un mecanismo automático de gestión de memoria, trata de recoger la memoria que ocupaban los objetos en memoria que ya no son usados en el programa.\n",
    "Alivia la administración manual de memoria. En C sucedía explícitamente. Por lo cual es un porceso que sucede implícitamente. Tener en cuenta que hay otras estrategias de administración de memoria y que cada una afecta el rendimiento."
   ]
  }
 ],
 "metadata": {
  "interpreter": {
   "hash": "2ffc68a898cdf6ae2d053613cdf1702dd2070bde6aa15cd9ac7af3dacdaf0735"
  },
  "kernelspec": {
   "display_name": "Python 3.7.10 64-bit ('arcgispro-py3': conda)",
   "name": "python3"
  },
  "language_info": {
   "codemirror_mode": {
    "name": "ipython",
    "version": 3
   },
   "file_extension": ".py",
   "mimetype": "text/x-python",
   "name": "python",
   "nbconvert_exporter": "python",
   "pygments_lexer": "ipython3",
   "version": "3.7.10"
  },
  "orig_nbformat": 4
 },
 "nbformat": 4,
 "nbformat_minor": 2
}
