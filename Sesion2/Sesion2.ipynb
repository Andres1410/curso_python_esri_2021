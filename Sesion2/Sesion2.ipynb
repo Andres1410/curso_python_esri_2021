{
 "cells": [
  {
   "cell_type": "markdown",
   "metadata": {},
   "source": [
    "# Sesión número 2 curso Python<!-- omit in toc -->\n",
    "\n",
    "- Breve historia de la computación, Python y el pensamiento computacional\n",
    "- Que es un lenguaje de programación\n",
    "- Configuración de VS Code (extensiones)\n",
    "- Copiar el repositorio a mi cuenta de github\n",
    "\n",
    "\n",
    "\n"
   ]
  },
  {
   "cell_type": "markdown",
   "metadata": {},
   "source": [
    "## Historia de la computación\n",
    "\n",
    "- La primer computadora fue griega, calculaba las posiciones del sol, la luna y del zodiaco. Si sabes la posición del sol sabes cuando preparar tus campos, tus batallas.\n",
    "Se usaban plumas de ganzo para escribir.\n",
    "\n",
    "- El telar de Jakart fue el siguiente paso, los ponch card representaban la información. Por primera vez nos dimos cuenta que podemos separar el cálculo de los procedimientos.\n",
    "\n",
    "- Siglo XIX, Motor analítico de Babbage, haciendo uso del avances en mecánica (engranajes) de su época logra separar instrucciones de calculo y realizar varios cálculos a la vez.\n",
    "\n",
    "- La “Computadora” era una profesión, es decir personas que realizaban una serie de algoritmos para dar resultados. Las compañías de las que su existencia dependía los cálculos, como ferroviarias, bancos exigían cálculos de mayor escala.\n",
    "  \n",
    "- Finales siglo XIX, ENIAC (Eectronic Numerical Integrator and Computer) usaba sistema decimal. creada por Alan Turing y Alonso. Esta época exigía exactitud en los cálculos que hacían que compañías dependieran de esta(Compañías Ferroviarias por ejemplo). Turing y Alonso, Descubrieron que matemáticamente todos los algoritmos podíamos reducirlos a una secuencia de soluciones matemáticas.\n",
    "\n",
    "- En 1945, Arquitectura de Von Neumann, EDVAC (Electronic Discrete Variable Automatic Computer) usaba sistema binario. Su aporte fue el descubrimiento que dentro de los componentes electrónicos se puede usar una serie de hadward para realizar el computo y almacenar datos dentro de memoria.\n",
    "\n",
    "- En 1950, Microchip, ejemplo Apple 1\n",
    "\n",
    "- En siglo XX, Arquitectura de Feymann, aporta las bases matemáticas de computo cuántico.\n",
    "- De allí existió la tendencia de la reducción de transistores, para disminuir el tamaño de la máquina.\n",
    "\n",
    "- Hoy existe la nube, existen miles de computadoras en un data center. Miles de computadoras operando en conjunto para darnos el mundo que tenemos.\n",
    "\n",
    "- Existen probelmas que todavía no podemos resolver de manera computacional. Richar Feyman, profesor de física, dió las bases del cómputo cuantico.\n",
    "No es posible simular computos cuanticos sin sistemas cuanticos.\n",
    "\n",
    "- Hoy en día existen proyectos para poder materializar las especulaciones matemáticas. En 2019 IBM lanzó el “Q System One” fue la primer computadora introducida para uso comercial, el 20 Septiembre, Google afirmó haber alcnazado la “supremacía cuantica”. Los resultados de estos avances están por sentirse.\n",
    "\n",
    "NOTA: Esta información fué tomada de las notas del curso de Introducción al pensamiento computacional con python de Platzi"
   ]
  },
  {
   "cell_type": "markdown",
   "metadata": {},
   "source": [
    "\n",
    "## Historia de python"
   ]
  },
  {
   "cell_type": "code",
   "execution_count": null,
   "metadata": {},
   "outputs": [],
   "source": [
    "from IPython.display import YouTubeVideo\n",
    "\n",
    "YouTubeVideo('KGivghDWg_c', width=800, height=300)"
   ]
  },
  {
   "cell_type": "code",
   "execution_count": 21,
   "metadata": {},
   "outputs": [
    {
     "data": {
      "text/html": [
       "<a href=\"https://www.tokioschool.com/noticias/historia-python/\">text</a>"
      ],
      "text/plain": [
       "<IPython.core.display.HTML object>"
      ]
     },
     "metadata": {},
     "output_type": "display_data"
    }
   ],
   "source": [
    "from IPython.core.display import display, HTML\n",
    "display(HTML(\"\"\"<a href=\"https://www.tokioschool.com/noticias/historia-python/\">text</a>\"\"\"))"
   ]
  },
  {
   "cell_type": "markdown",
   "metadata": {},
   "source": [
    "## ¿Qué es un lenguaje de programación?\n",
    "\n",
    "Es un lenguaje formal que, mediante una serie de instrucciones, le permite a un programador escribir un conjunto de órdenes, acciones consecutivas, datos y algoritmos para, de esa forma, crear programas que controlen el comportamiento físico y lógico de una máquina.\n",
    "\n",
    "- ¿Qué tipos de lenguaje de programación existen?\n",
    "\n",
    "El lenguaje de programación es la base para construir todas las aplicaciones digitales que se utilizan en el día a día y se clasifican en dos tipos principales: lenguaje de bajo nivel y de alto nivel.\n",
    "\n",
    "- Lenguaje de programación de bajo nivel\n",
    "\n",
    "Son lenguajes totalmente orientados a la máquina.\n",
    "\n",
    "- Este lenguaje sirve de interfaz y crea un vínculo inseparable entre el hardware y el software.\n",
    "\n",
    "\n",
    "- Además, ejerce un control directo sobre el equipo y su estructura física. Para aplicarlo adecuadamente es necesario que el programador conozca sólidamente el hardware. Éste se subdivide en dos tipos:\n",
    "\n",
    "\n",
    "- Lenguaje máquina\n",
    "Es el más primitivo de los lenguajes y es una colección de dígitos binarios o bits (0 y 1) que la computadora lee e interpreta y son los únicos idiomas que las computadoras entienden.\n",
    "\n",
    "Ejemplo: 10110000 01100001\n",
    "\n",
    "No entendemos muy bien lo que dice ¿verdad? Por eso, el lenguaje ensamblador nos permite entender mejor a qué se refiere éste código.\n",
    "\n",
    "- Lenguaje ensamblador\n",
    "\n",
    "El lenguaje ensamblador es el primer intento de sustitución del lenguaje de máquina por uno más cercano al utilizado por los humanos.\n",
    "\n",
    "Un programa escrito en éste lenguaje es almacenado como texto (tal como programas de alto nivel) y consiste en una serie de instrucciones que corresponden al flujo de órdenes ejecutables por un microprocesador.\n",
    "\n",
    "Sin embargo, dichas máquinas no comprenden el lenguaje emsamblador, por lo que se debe convertir a lenguaje máquina mediante un programa llamado Ensamblador.\n",
    "\n",
    "Este genera códigos compactos, rápidos y eficientes creados por el programador que tiene el control total de la máquina.\n",
    "\n",
    "Ejemplo: MOV AL, 61h (asigna el valor hexadecimal 61 al registro “AL”)\n",
    "\n",
    "- Lenguaje de programación de alto nivel\n",
    "\n",
    "Tienen como objetivo facilitar el trabajo del programador, ya que utilizan unas instrucciones más fáciles de entender.\n",
    "\n",
    "Además, el lenguaje de alto nivel permite escribir códigos mediante idiomas que conocemos (español, inglés, etc.) y luego, para ser ejecutados, se traduce al lenguaje de máquina mediante traductores o compiladores.\n",
    "\n",
    "- Traductor\n",
    "\n",
    "Traducen programas escritos en un lenguaje de programación al lenguaje máquina de la computadora y a medida que va siendo traducida, se ejecuta.\n",
    "\n",
    "- Compilador\n",
    "\n",
    "Permite traducir todo un programa de una sola vez, haciendo una ejecución más rápida y puede almacenarse para usarse luego sin volver a hacer la traducción."
   ]
  },
  {
   "cell_type": "markdown",
   "metadata": {},
   "source": [
    "## Configuración de VS Code (extensiones)\n"
   ]
  },
  {
   "cell_type": "markdown",
   "metadata": {},
   "source": [
    "![extensiones](media/extensiones.PNG)"
   ]
  },
  {
   "cell_type": "markdown",
   "metadata": {},
   "source": [
    "## Ejercicio practico en la sesión de configuración de repo github"
   ]
  }
 ],
 "metadata": {
  "interpreter": {
   "hash": "2ffc68a898cdf6ae2d053613cdf1702dd2070bde6aa15cd9ac7af3dacdaf0735"
  },
  "kernelspec": {
   "display_name": "Python 3.7.10 64-bit ('arcgispro-py3': conda)",
   "name": "python3"
  },
  "language_info": {
   "codemirror_mode": {
    "name": "ipython",
    "version": 3
   },
   "file_extension": ".py",
   "mimetype": "text/x-python",
   "name": "python",
   "nbconvert_exporter": "python",
   "pygments_lexer": "ipython3",
   "version": "3.7.10"
  },
  "orig_nbformat": 4
 },
 "nbformat": 4,
 "nbformat_minor": 2
}
