{
 "cells": [
  {
   "cell_type": "markdown",
   "metadata": {},
   "source": [
    "# Sesión numero 2 curso Python<!-- omit in toc -->\n",
    "\n",
    "- Breve historia de la computación, Python y el pensamiento computacional\n",
    "- Que es un lenguaje de programación\n",
    "- Configuración de VS Code (extensiones)\n",
    "- Copiar el repositorio a mi cuenta de github\n",
    "\n",
    "\n",
    "\n"
   ]
  },
  {
   "cell_type": "markdown",
   "metadata": {},
   "source": [
    "## Historia de la computación\n",
    "\n",
    "- La primer computadora fue griega, calculaba las posiciones del sol, la luna y del zodiaco. Si sabes la posición del sol sabes cuando preparar tus campos, tus batallas.\n",
    "Se usaban plumas de ganzo para escribir.\n",
    "\n",
    "- El telar de Jakart fue el siguiente paso, los ponch card representaban la información. Por primera vez nos dimos cuenta que podemos separar el cálculo de los procedimientos.\n",
    "\n",
    "- Siglo XIX, Motor analítico de Babbage, haciendo uso del avances en mecánica (engranajes) de su época logra separar instrucciones de calculo y realizar varios cálculos a la vez.\n",
    "\n",
    "- La “Computadora” era una profesión, es decir personas que realizaban una serie de algoritmos para dar resultados. Las compañías de las que su existencia dependía los cálculos, como ferroviarias, bancos exigían cálculos de mayor escala.\n",
    "  \n",
    "- Finales siglo XIX, ENIAC (Eectronic Numerical Integrator and Computer) usaba sistema decimal. creada por Alan Turing y Alonso. Esta época exigía exactitud en los cálculos que hacían que compañías dependieran de esta(Compañías Ferroviarias por ejemplo). Turing y Alonso, Descubrieron que matemáticamente todos los algoritmos podíamos reducirlos a una secuencia de soluciones matemáticas.\n",
    "\n",
    "- En 1945, Arquitectura de Von Neumann, EDVAC (Electronic Discrete Variable Automatic Computer) usaba sistema binario. Su aporte fue el descubrimiento que dentro de los componentes electrónicos se puede usar una serie de hadward para realizar el computo y almacenar datos dentro de memoria.\n",
    "\n",
    "- En 1950, Microchip, ejemplo Apple 1\n",
    "\n",
    "- En siglo XX, Arquitectura de Feymann, aporta las bases matemáticas de computo cuántico.\n",
    "- De allí existió la tendencia de la reducción de transistores, para disminuir el tamaño de la máquina.\n",
    "\n",
    "- Hoy existe la nube, existen miles de computadoras en un data center. Miles de computadoras operando en conjunto para darnos el mundo que tenemos.\n",
    "\n",
    "- Existen probelmas que todavía no podemos resolver de manera computacional. Richar Feyman, profesor de física, dió las bases del cómputo cuantico.\n",
    "No es posible simular computos cuanticos sin sistemas cuanticos.\n",
    "\n",
    "- Hoy en día existen proyectos para poder materializar las especulaciones matemáticas. En 2019 IBM lanzó el “Q System One” fue la primer computadora introducida para uso comercial, el 20 Septiembre, Google afirmó haber alcnazado la “supremacía cuantica”. Los resultados de estos avances están por sentirse.\n",
    "\n",
    "NOTA: Esta información fué tomada de las notas del curso de Introducción al pensamiento computacional con python de Platzi"
   ]
  },
  {
   "cell_type": "markdown",
   "metadata": {},
   "source": [
    "\n",
    "## Historia de python"
   ]
  },
  {
   "cell_type": "code",
   "execution_count": null,
   "metadata": {},
   "outputs": [],
   "source": [
    "from IPython.display import YouTubeVideo\n",
    "\n",
    "YouTubeVideo('KGivghDWg_c', width=800, height=300)"
   ]
  },
  {
   "cell_type": "code",
   "execution_count": 21,
   "metadata": {},
   "outputs": [
    {
     "data": {
      "text/html": [
       "<a href=\"https://www.tokioschool.com/noticias/historia-python/\">text</a>"
      ],
      "text/plain": [
       "<IPython.core.display.HTML object>"
      ]
     },
     "metadata": {},
     "output_type": "display_data"
    }
   ],
   "source": [
    "from IPython.core.display import display, HTML\n",
    "display(HTML(\"\"\"<a href=\"https://www.tokioschool.com/noticias/historia-python/\">text</a>\"\"\"))"
   ]
  },
  {
   "cell_type": "markdown",
   "metadata": {},
   "source": []
  }
 ],
 "metadata": {
  "interpreter": {
   "hash": "2ffc68a898cdf6ae2d053613cdf1702dd2070bde6aa15cd9ac7af3dacdaf0735"
  },
  "kernelspec": {
   "display_name": "Python 3.7.10 64-bit ('arcgispro-py3': conda)",
   "name": "python3"
  },
  "language_info": {
   "codemirror_mode": {
    "name": "ipython",
    "version": 3
   },
   "file_extension": ".py",
   "mimetype": "text/x-python",
   "name": "python",
   "nbconvert_exporter": "python",
   "pygments_lexer": "ipython3",
   "version": "3.7.10"
  },
  "orig_nbformat": 4
 },
 "nbformat": 4,
 "nbformat_minor": 2
}
